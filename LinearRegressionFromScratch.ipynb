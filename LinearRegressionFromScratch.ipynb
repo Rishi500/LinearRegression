{
  "cells": [
    {
      "metadata": {
        "_uuid": "8f2839f25d086af736a60e9eeb907d3b93b6e0e5",
        "_cell_guid": "b1076dfc-b9ad-4769-8c92-a6c4dae69d19",
        "trusted": true,
        "collapsed": true
      },
      "cell_type": "code",
      "source": "import numpy as np \nimport pandas as pd ",
      "execution_count": 253,
      "outputs": []
    },
    {
      "metadata": {
        "_cell_guid": "79c7e3d0-c299-4dcb-8224-4455121ee9b0",
        "_uuid": "d629ff2d2480ee46fbb7e2d37f6b5fab8052498a",
        "trusted": true
      },
      "cell_type": "code",
      "source": "df = pd.read_csv('../input/winequality-red.csv')\ndf.head()",
      "execution_count": 254,
      "outputs": [
        {
          "output_type": "execute_result",
          "execution_count": 254,
          "data": {
            "text/plain": "   fixed acidity  volatile acidity   ...     alcohol  quality\n0            7.4              0.70   ...         9.4        5\n1            7.8              0.88   ...         9.8        5\n2            7.8              0.76   ...         9.8        5\n3           11.2              0.28   ...         9.8        6\n4            7.4              0.70   ...         9.4        5\n\n[5 rows x 12 columns]",
            "text/html": "<div>\n<style scoped>\n    .dataframe tbody tr th:only-of-type {\n        vertical-align: middle;\n    }\n\n    .dataframe tbody tr th {\n        vertical-align: top;\n    }\n\n    .dataframe thead th {\n        text-align: right;\n    }\n</style>\n<table border=\"1\" class=\"dataframe\">\n  <thead>\n    <tr style=\"text-align: right;\">\n      <th></th>\n      <th>fixed acidity</th>\n      <th>volatile acidity</th>\n      <th>citric acid</th>\n      <th>residual sugar</th>\n      <th>chlorides</th>\n      <th>free sulfur dioxide</th>\n      <th>total sulfur dioxide</th>\n      <th>density</th>\n      <th>pH</th>\n      <th>sulphates</th>\n      <th>alcohol</th>\n      <th>quality</th>\n    </tr>\n  </thead>\n  <tbody>\n    <tr>\n      <th>0</th>\n      <td>7.4</td>\n      <td>0.70</td>\n      <td>0.00</td>\n      <td>1.9</td>\n      <td>0.076</td>\n      <td>11.0</td>\n      <td>34.0</td>\n      <td>0.9978</td>\n      <td>3.51</td>\n      <td>0.56</td>\n      <td>9.4</td>\n      <td>5</td>\n    </tr>\n    <tr>\n      <th>1</th>\n      <td>7.8</td>\n      <td>0.88</td>\n      <td>0.00</td>\n      <td>2.6</td>\n      <td>0.098</td>\n      <td>25.0</td>\n      <td>67.0</td>\n      <td>0.9968</td>\n      <td>3.20</td>\n      <td>0.68</td>\n      <td>9.8</td>\n      <td>5</td>\n    </tr>\n    <tr>\n      <th>2</th>\n      <td>7.8</td>\n      <td>0.76</td>\n      <td>0.04</td>\n      <td>2.3</td>\n      <td>0.092</td>\n      <td>15.0</td>\n      <td>54.0</td>\n      <td>0.9970</td>\n      <td>3.26</td>\n      <td>0.65</td>\n      <td>9.8</td>\n      <td>5</td>\n    </tr>\n    <tr>\n      <th>3</th>\n      <td>11.2</td>\n      <td>0.28</td>\n      <td>0.56</td>\n      <td>1.9</td>\n      <td>0.075</td>\n      <td>17.0</td>\n      <td>60.0</td>\n      <td>0.9980</td>\n      <td>3.16</td>\n      <td>0.58</td>\n      <td>9.8</td>\n      <td>6</td>\n    </tr>\n    <tr>\n      <th>4</th>\n      <td>7.4</td>\n      <td>0.70</td>\n      <td>0.00</td>\n      <td>1.9</td>\n      <td>0.076</td>\n      <td>11.0</td>\n      <td>34.0</td>\n      <td>0.9978</td>\n      <td>3.51</td>\n      <td>0.56</td>\n      <td>9.4</td>\n      <td>5</td>\n    </tr>\n  </tbody>\n</table>\n</div>"
          },
          "metadata": {}
        }
      ]
    },
    {
      "metadata": {
        "trusted": true,
        "_uuid": "a1a32cd466c61e2f900d4ce7ad02191ec478d775"
      },
      "cell_type": "code",
      "source": "X = df.iloc[:,:-1].values\nX[0:3]\n#First 3 Rows",
      "execution_count": 255,
      "outputs": [
        {
          "output_type": "execute_result",
          "execution_count": 255,
          "data": {
            "text/plain": "array([[7.400e+00, 7.000e-01, 0.000e+00, 1.900e+00, 7.600e-02, 1.100e+01,\n        3.400e+01, 9.978e-01, 3.510e+00, 5.600e-01, 9.400e+00],\n       [7.800e+00, 8.800e-01, 0.000e+00, 2.600e+00, 9.800e-02, 2.500e+01,\n        6.700e+01, 9.968e-01, 3.200e+00, 6.800e-01, 9.800e+00],\n       [7.800e+00, 7.600e-01, 4.000e-02, 2.300e+00, 9.200e-02, 1.500e+01,\n        5.400e+01, 9.970e-01, 3.260e+00, 6.500e-01, 9.800e+00]])"
          },
          "metadata": {}
        }
      ]
    },
    {
      "metadata": {
        "trusted": true,
        "_uuid": "ed9300b491e88944828cb833c3c1dbe5b400e341"
      },
      "cell_type": "code",
      "source": "y = df.iloc[:,-1].values\ny[0:3]\n#First 3 values",
      "execution_count": 256,
      "outputs": [
        {
          "output_type": "execute_result",
          "execution_count": 256,
          "data": {
            "text/plain": "array([5, 5, 5])"
          },
          "metadata": {}
        }
      ]
    },
    {
      "metadata": {
        "trusted": true,
        "_uuid": "3a5c2068cf65cf6701f8b60155b1bb9a93ab46c5",
        "collapsed": true
      },
      "cell_type": "code",
      "source": "#Splitting into train and test sets\nfrom sklearn.cross_validation import train_test_split\nX_train, X_test, y_train, y_test = train_test_split(X, y, test_size = 0.20, random_state = 0)",
      "execution_count": 257,
      "outputs": []
    },
    {
      "metadata": {
        "trusted": true,
        "collapsed": true,
        "_uuid": "d9f75a87fa8f5ce46c5bcf785ea35b9452f4bcb6"
      },
      "cell_type": "code",
      "source": "#Feature Scaling\nfrom sklearn.preprocessing import StandardScaler\nsc = StandardScaler()\nX_train = sc.fit_transform(X_train)\nX_test = sc.transform(X_test)",
      "execution_count": 258,
      "outputs": []
    },
    {
      "metadata": {
        "trusted": true,
        "_uuid": "335b254bd919d90bf397ba73f45b686570091025"
      },
      "cell_type": "code",
      "source": "entries = len(y_train)\nentries",
      "execution_count": 259,
      "outputs": [
        {
          "output_type": "execute_result",
          "execution_count": 259,
          "data": {
            "text/plain": "1279"
          },
          "metadata": {}
        }
      ]
    },
    {
      "metadata": {
        "trusted": true,
        "_uuid": "738782292f64fb54e4fea7698bb40ab704ba28f3"
      },
      "cell_type": "code",
      "source": "y_pred = []\nlen_x = len(X_train[0])\nw = []\nb = 0\nprint(len_x)",
      "execution_count": 260,
      "outputs": [
        {
          "output_type": "stream",
          "text": "11\n",
          "name": "stdout"
        }
      ]
    },
    {
      "metadata": {
        "trusted": true,
        "_uuid": "58df716cc540a79c95013a99ab2eb1270cb7c024"
      },
      "cell_type": "code",
      "source": "for weights in range(len_x):\n    w.append(0)\nw",
      "execution_count": 261,
      "outputs": [
        {
          "output_type": "execute_result",
          "execution_count": 261,
          "data": {
            "text/plain": "[0, 0, 0, 0, 0, 0, 0, 0, 0, 0, 0]"
          },
          "metadata": {}
        }
      ]
    },
    {
      "metadata": {
        "trusted": true,
        "collapsed": true,
        "_uuid": "dda247d0226d981d61645ce0c873678288599ad4"
      },
      "cell_type": "code",
      "source": "def predict(inputs):\n    predicted = np.dot(w,inputs)+b\n    return predicted",
      "execution_count": 262,
      "outputs": []
    },
    {
      "metadata": {
        "trusted": true,
        "collapsed": true,
        "_uuid": "f22c6d1d29e16e2aae8733abb11f9aeb91311b7d"
      },
      "cell_type": "code",
      "source": "def loss_func(y,a):\n    J = (y-a)**2\n    return J",
      "execution_count": 263,
      "outputs": []
    },
    {
      "metadata": {
        "trusted": true,
        "collapsed": true,
        "_uuid": "411addf176b633436517107fd5337f689aeacf1c"
      },
      "cell_type": "code",
      "source": "dw = []\ndb = 0\nJ = 0\nalpha = 0.05\nfor x in range(len_x):\n    dw.append(0)",
      "execution_count": 264,
      "outputs": []
    },
    {
      "metadata": {
        "trusted": true,
        "_uuid": "54f8ff65c58fb488d017cc474e3a6ca1c11c5722",
        "collapsed": true
      },
      "cell_type": "code",
      "source": "#Repeating the Gradient Descent Process 100 times\nfor iterations in range(100):\n    for i in range(entries):\n        localx = X_train[i]\n        a = predict(localx)   \n        dz = a - y_train[i]\n        J += loss_func(y_train[i],a)\n        for j in range(len_x):\n            dw[j] = dw[j]+(localx[j]*dz)\n        db += dz\n    J = J/entries\n    db = db/entries\n    for x in range(len_x):\n        dw[x]=dw[x]/entries\n    for x in range(len_x):\n        w[x] = w[x]-(alpha*dw[x])\n    b = b-(alpha*db)   \n    J=0\n    ",
      "execution_count": 265,
      "outputs": []
    },
    {
      "metadata": {
        "trusted": true,
        "_uuid": "8704b8f7b888807451e4447cf99996c663e2a4f5"
      },
      "cell_type": "code",
      "source": "#Coefficients\nprint(w)",
      "execution_count": 266,
      "outputs": [
        {
          "output_type": "stream",
          "text": "[0.06426006854125361, -0.19343191025921144, 0.0025345409362213175, 0.044315278788595334, -0.0950016001435282, 0.025090144678270167, -0.09453508914853205, -0.0749536146584834, -0.028019192130692525, 0.1615828860020355, 0.268199879328166]\n",
          "name": "stdout"
        }
      ]
    },
    {
      "metadata": {
        "trusted": true,
        "_uuid": "7b9b1e3e1c69245cd51eb72f72128d3388b449f1"
      },
      "cell_type": "code",
      "source": "#Intercept (Bias)\nprint(b)",
      "execution_count": 267,
      "outputs": [
        {
          "output_type": "stream",
          "text": "5.613311232536668\n",
          "name": "stdout"
        }
      ]
    },
    {
      "metadata": {
        "trusted": true,
        "collapsed": true,
        "_uuid": "49b52b8ea78428c55c3baa66387345740a8ffa10"
      },
      "cell_type": "code",
      "source": "for x in range(len(y_test)):\n    y_pred.append(predict(X_test[x]))",
      "execution_count": 268,
      "outputs": []
    },
    {
      "metadata": {
        "trusted": true,
        "_uuid": "299ebcc519a8f0816e711b793daf1b48664e1c3d"
      },
      "cell_type": "code",
      "source": "#Actual Vs Predicted\nfor x in range(len(y_pred)):\n    print('Actual ',y_test[x],' Predicted ',y_pred[x])\n    y_pred[x] = round(y_pred[x])",
      "execution_count": 269,
      "outputs": [
        {
          "output_type": "stream",
          "text": "Actual  6  Predicted  5.721282619499732\nActual  5  Predicted  4.986596894264215\nActual  7  Predicted  6.543623034398916\nActual  6  Predicted  5.31545324541239\nActual  5  Predicted  5.9140976229359286\nActual  6  Predicted  4.984409481032895\nActual  5  Predicted  5.369526596447976\nActual  6  Predicted  6.018630304286209\nActual  4  Predicted  4.848080142878111\nActual  5  Predicted  4.930601510750805\nActual  5  Predicted  5.279669367970472\nActual  5  Predicted  5.358283531135463\nActual  6  Predicted  5.66419131867782\nActual  5  Predicted  5.187398594717399\nActual  6  Predicted  5.509621951000485\nActual  6  Predicted  6.3564512710617755\nActual  7  Predicted  6.780379429797356\nActual  5  Predicted  5.7093306300958915\nActual  5  Predicted  5.951680715778238\nActual  4  Predicted  5.055056312843172\nActual  7  Predicted  6.282802446007664\nActual  6  Predicted  5.168084588329806\nActual  6  Predicted  5.575719630861976\nActual  4  Predicted  6.137382869668193\nActual  6  Predicted  5.459039300211413\nActual  5  Predicted  5.007795074094902\nActual  5  Predicted  5.149595532541026\nActual  7  Predicted  6.445024879171508\nActual  5  Predicted  5.3020900663738875\nActual  6  Predicted  6.279474389041958\nActual  5  Predicted  5.991713160932238\nActual  6  Predicted  5.787035844555438\nActual  5  Predicted  5.531605717953979\nActual  6  Predicted  5.262025406736589\nActual  7  Predicted  5.709738060868446\nActual  7  Predicted  6.125733860005998\nActual  5  Predicted  5.157002885518326\nActual  6  Predicted  5.444149053334055\nActual  6  Predicted  6.3509241520145725\nActual  7  Predicted  5.721211202428854\nActual  5  Predicted  5.391684293366807\nActual  7  Predicted  5.9789602243378415\nActual  6  Predicted  6.738314553667849\nActual  6  Predicted  6.5623241542211135\nActual  5  Predicted  5.943744019435568\nActual  5  Predicted  4.784615640857019\nActual  6  Predicted  5.477500848758359\nActual  6  Predicted  5.966460738909657\nActual  6  Predicted  5.503180128648419\nActual  5  Predicted  6.086759206197309\nActual  5  Predicted  5.305467066530109\nActual  5  Predicted  5.270872592305899\nActual  6  Predicted  5.741600557962896\nActual  6  Predicted  6.272469612840197\nActual  6  Predicted  5.684007865731516\nActual  5  Predicted  5.2146026834335\nActual  5  Predicted  5.073992063732482\nActual  5  Predicted  5.271583023013029\nActual  6  Predicted  6.466283808548224\nActual  5  Predicted  5.40895722588358\nActual  5  Predicted  5.136095359494337\nActual  6  Predicted  5.7003808598929195\nActual  6  Predicted  5.983348525787882\nActual  6  Predicted  6.230896028582377\nActual  5  Predicted  5.025049281421209\nActual  6  Predicted  6.069001163713616\nActual  5  Predicted  5.332004698717474\nActual  5  Predicted  5.915826106909375\nActual  6  Predicted  6.094870791114271\nActual  6  Predicted  5.922428009063434\nActual  6  Predicted  5.287124329827575\nActual  6  Predicted  5.397826064084747\nActual  4  Predicted  5.003494494980018\nActual  6  Predicted  5.5296066034128\nActual  5  Predicted  5.600337284099953\nActual  6  Predicted  6.200118613594112\nActual  5  Predicted  5.336948283021798\nActual  5  Predicted  5.2842832074538215\nActual  5  Predicted  5.706271575300102\nActual  6  Predicted  6.292719133630959\nActual  6  Predicted  5.6633027360119\nActual  5  Predicted  5.25589656302263\nActual  6  Predicted  5.907055846108879\nActual  6  Predicted  6.042656151059029\nActual  6  Predicted  5.459607410545589\nActual  5  Predicted  5.327929815049391\nActual  6  Predicted  6.2088103468417515\nActual  5  Predicted  5.048660096762562\nActual  5  Predicted  5.284793125171238\nActual  5  Predicted  4.938977247508594\nActual  5  Predicted  5.129769016893606\nActual  6  Predicted  5.266872879281127\nActual  4  Predicted  5.754299486680093\nActual  5  Predicted  5.361870128295548\nActual  7  Predicted  6.186214556198179\nActual  6  Predicted  5.287124329827575\nActual  6  Predicted  6.239092871311582\nActual  5  Predicted  5.323353306856911\nActual  6  Predicted  5.381490395306043\nActual  5  Predicted  5.892120567555732\nActual  8  Predicted  6.8083660215747575\nActual  6  Predicted  5.959473310835029\nActual  6  Predicted  5.719410393830468\nActual  6  Predicted  6.309454001148816\nActual  5  Predicted  5.567912119621029\nActual  5  Predicted  4.9239610159180565\nActual  5  Predicted  5.567912119621029\nActual  5  Predicted  5.38802467684895\nActual  7  Predicted  5.980253117380259\nActual  5  Predicted  5.243488788858452\nActual  6  Predicted  5.868568495901241\nActual  5  Predicted  5.111864840855953\nActual  7  Predicted  6.211671221257329\nActual  5  Predicted  5.0195269945008025\nActual  6  Predicted  5.548673704691654\nActual  6  Predicted  5.749151439405242\nActual  6  Predicted  5.597917805431886\nActual  7  Predicted  6.376011576642307\nActual  6  Predicted  5.799135718612133\nActual  6  Predicted  5.575719630861976\nActual  5  Predicted  5.093435674507711\nActual  7  Predicted  5.871217065913738\nActual  5  Predicted  5.381341003765073\nActual  5  Predicted  5.103721066624617\nActual  6  Predicted  6.185119224873483\nActual  6  Predicted  6.275981673926735\nActual  5  Predicted  5.306378682113175\nActual  5  Predicted  5.394765813442034\nActual  5  Predicted  5.995521825353195\nActual  6  Predicted  6.402187817346967\nActual  6  Predicted  5.3865065118762425\nActual  6  Predicted  5.163868932155475\nActual  6  Predicted  5.985035321056601\nActual  6  Predicted  5.776054244990166\nActual  6  Predicted  6.2544807187273825\nActual  5  Predicted  5.273023715590655\nActual  6  Predicted  5.853891547737666\nActual  5  Predicted  5.239490986685414\nActual  8  Predicted  6.0508672216108925\nActual  5  Predicted  5.293695743342225\nActual  6  Predicted  5.9676209557109425\nActual  5  Predicted  5.068192769573405\nActual  6  Predicted  5.477500848758359\nActual  5  Predicted  5.2210870918833585\nActual  4  Predicted  5.592861709624432\nActual  6  Predicted  5.71714332649428\nActual  7  Predicted  6.211671221257329\nActual  6  Predicted  6.376062466338175\nActual  5  Predicted  6.207794159466783\nActual  6  Predicted  5.28171439063908\nActual  6  Predicted  5.873827443547362\nActual  5  Predicted  5.904823887295505\nActual  5  Predicted  5.38802467684895\nActual  5  Predicted  5.467710586744093\nActual  6  Predicted  5.498810094889573\nActual  6  Predicted  5.341172082925654\nActual  3  Predicted  5.097319377356795\nActual  6  Predicted  5.317310587481399\nActual  6  Predicted  6.150859408428627\nActual  6  Predicted  6.061719731124757\nActual  6  Predicted  5.902460539668862\nActual  6  Predicted  5.5438531193497935\nActual  6  Predicted  6.232026637464875\nActual  6  Predicted  5.042247074193183\nActual  5  Predicted  5.880441169499001\nActual  5  Predicted  4.983252358967104\nActual  6  Predicted  5.964986132912015\nActual  6  Predicted  6.446228243057851\nActual  6  Predicted  5.41436376659342\nActual  6  Predicted  5.921940182835659\nActual  5  Predicted  5.922130231329122\nActual  5  Predicted  5.47404888849538\nActual  5  Predicted  4.961410106849852\nActual  8  Predicted  6.592264167434217\nActual  5  Predicted  5.795018757731364\nActual  6  Predicted  6.227302319743604\nActual  6  Predicted  6.13054027625638\nActual  7  Predicted  6.79731729073738\nActual  7  Predicted  6.052480730953094\nActual  5  Predicted  4.843623535309234\nActual  5  Predicted  5.05400577395395\nActual  7  Predicted  6.925575611882351\nActual  5  Predicted  5.440227884043906\nActual  6  Predicted  6.097813559671777\nActual  6  Predicted  6.73077447803591\nActual  4  Predicted  4.978191369658513\nActual  5  Predicted  5.60855402330411\nActual  6  Predicted  5.719410393830468\nActual  5  Predicted  4.968255900645773\nActual  5  Predicted  6.094277966232459\nActual  6  Predicted  6.00843326362468\nActual  5  Predicted  5.8347435036110955\nActual  6  Predicted  5.116261170477649\nActual  6  Predicted  5.418846648302688\nActual  5  Predicted  5.189553846790951\nActual  5  Predicted  5.134020342009087\nActual  5  Predicted  5.279669367970472\nActual  5  Predicted  5.115234119284027\nActual  5  Predicted  5.183550672453703\nActual  5  Predicted  5.060095855509307\nActual  5  Predicted  5.187760429589362\nActual  6  Predicted  6.138528788992826\nActual  6  Predicted  5.150634031100656\nActual  5  Predicted  5.254356583779188\nActual  6  Predicted  5.401611051568752\nActual  6  Predicted  4.955480291726466\nActual  5  Predicted  5.0515752320397365\nActual  6  Predicted  6.302685709354969\nActual  7  Predicted  5.978719283978507\nActual  6  Predicted  5.388026149829453\nActual  6  Predicted  5.9187472670857275\nActual  6  Predicted  6.148367521478693\nActual  5  Predicted  5.290142796417661\nActual  5  Predicted  6.325875551479048\nActual  5  Predicted  4.965913267679412\nActual  6  Predicted  5.390593746637567\nActual  5  Predicted  5.880360153235356\nActual  6  Predicted  6.038227348914017\nActual  6  Predicted  5.5096549060705895\nActual  5  Predicted  4.9637096613765594\nActual  5  Predicted  4.995835052406976\nActual  5  Predicted  5.8857399974262705\nActual  6  Predicted  6.359716522761649\nActual  6  Predicted  5.704723310478261\nActual  5  Predicted  5.3636861449588915\nActual  6  Predicted  5.949217404477754\nActual  6  Predicted  6.353359194572764\nActual  6  Predicted  5.779244071552369\nActual  3  Predicted  4.816586359194171\nActual  6  Predicted  5.432545549638252\nActual  5  Predicted  5.001129546709169\nActual  5  Predicted  5.864065596195\nActual  7  Predicted  5.048316100023074\nActual  6  Predicted  5.83403456113588\nActual  7  Predicted  6.206677477986994\nActual  6  Predicted  5.573675797516083\nActual  6  Predicted  6.058343304298024\nActual  7  Predicted  6.525401361860872\nActual  7  Predicted  6.486294282317296\nActual  6  Predicted  6.091643297559761\nActual  5  Predicted  5.29444224326655\nActual  6  Predicted  4.892870817465424\nActual  5  Predicted  4.955809759498617\nActual  5  Predicted  5.0671009329445225\nActual  6  Predicted  5.900993331992899\nActual  5  Predicted  4.816813547723928\nActual  5  Predicted  5.546914779057497\nActual  5  Predicted  5.224495371541457\nActual  5  Predicted  4.866747789238348\nActual  6  Predicted  6.303663135810424\nActual  5  Predicted  4.846899948769054\nActual  5  Predicted  5.235102130300539\nActual  5  Predicted  4.927163924076702\nActual  6  Predicted  5.292456427740347\nActual  6  Predicted  5.477982415685073\nActual  5  Predicted  5.505341892413038\nActual  5  Predicted  5.096670915131455\nActual  5  Predicted  5.055239171921455\nActual  6  Predicted  5.086048052256352\nActual  7  Predicted  5.581314859184531\nActual  5  Predicted  5.299293462449085\nActual  6  Predicted  6.892646335549015\nActual  5  Predicted  5.228908683601292\nActual  6  Predicted  5.607526439355535\nActual  5  Predicted  5.193285429805297\nActual  4  Predicted  4.670619076744554\nActual  5  Predicted  5.320517602396101\nActual  5  Predicted  4.932349140173126\nActual  6  Predicted  5.544343339209146\nActual  7  Predicted  6.455227599844814\nActual  6  Predicted  5.699211004515222\nActual  5  Predicted  5.682219134901563\nActual  5  Predicted  5.610181218394106\nActual  4  Predicted  6.079878391179431\nActual  5  Predicted  5.934891329746622\nActual  6  Predicted  5.80237976115304\nActual  7  Predicted  6.329185595732046\nActual  6  Predicted  5.15225805311945\nActual  6  Predicted  6.562244027447056\nActual  7  Predicted  6.129604184504373\nActual  5  Predicted  5.300737161419745\nActual  7  Predicted  6.859313524855503\nActual  5  Predicted  5.682219134901563\nActual  6  Predicted  6.290224633965478\nActual  6  Predicted  5.750402595189944\nActual  5  Predicted  5.130755133494853\nActual  5  Predicted  5.532968286926589\nActual  5  Predicted  5.306089993949398\nActual  6  Predicted  6.247523498932282\nActual  6  Predicted  5.856472880035656\nActual  5  Predicted  5.637020840034744\nActual  6  Predicted  5.402159170030126\nActual  6  Predicted  6.050461205340506\nActual  6  Predicted  5.2682538190323855\nActual  5  Predicted  5.142898535675968\nActual  6  Predicted  5.650991125253498\nActual  6  Predicted  5.530469681202736\nActual  5  Predicted  5.1553838715235845\nActual  6  Predicted  5.145647394815268\nActual  5  Predicted  5.169832707749917\nActual  6  Predicted  5.634720915526645\nActual  5  Predicted  5.035778639616559\nActual  6  Predicted  5.341086146082826\nActual  6  Predicted  5.6844948866141705\nActual  6  Predicted  6.084608735235292\nActual  6  Predicted  5.784462782470915\nActual  5  Predicted  5.291149012322324\nActual  5  Predicted  5.025678091756165\nActual  6  Predicted  5.598711131666478\nActual  5  Predicted  5.306627649751547\nActual  5  Predicted  5.895093720721698\nActual  6  Predicted  5.875013978704797\nActual  5  Predicted  5.321345096373619\nActual  5  Predicted  5.323353306856911\nActual  5  Predicted  5.046273971953616\nActual  6  Predicted  6.522812141408126\nActual  4  Predicted  5.986293007668933\nActual  5  Predicted  6.229905933707366\nActual  4  Predicted  5.106363500034954\nActual  6  Predicted  6.330251699204974\n",
          "name": "stdout"
        }
      ]
    }
  ],
  "metadata": {
    "kernelspec": {
      "display_name": "Python 3",
      "language": "python",
      "name": "python3"
    },
    "language_info": {
      "name": "python",
      "version": "3.6.6",
      "mimetype": "text/x-python",
      "codemirror_mode": {
        "name": "ipython",
        "version": 3
      },
      "pygments_lexer": "ipython3",
      "nbconvert_exporter": "python",
      "file_extension": ".py"
    }
  },
  "nbformat": 4,
  "nbformat_minor": 1
}